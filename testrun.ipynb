{
 "cells": [
  {
   "cell_type": "code",
   "execution_count": 1,
   "metadata": {},
   "outputs": [
    {
     "name": "stderr",
     "output_type": "stream",
     "text": [
      "Loading required package: ParamHelpers\n"
     ]
    }
   ],
   "source": [
    "library(mlr)"
   ]
  },
  {
   "cell_type": "code",
   "execution_count": 147,
   "metadata": {},
   "outputs": [
    {
     "name": "stderr",
     "output_type": "stream",
     "text": [
      "Updating HTML index of packages in '.Library'\n",
      "Making 'packages.html' ... done\n"
     ]
    }
   ],
   "source": [
    "install.packages('mldr.datasets')"
   ]
  },
  {
   "cell_type": "code",
   "execution_count": 157,
   "metadata": {},
   "outputs": [
    {
     "name": "stderr",
     "output_type": "stream",
     "text": [
      "also installing the dependencies ‘glue’, ‘Rcpp’, ‘tidyselect’, ‘plogr’, ‘dplyr’, ‘tidyr’, ‘snakecase’, ‘purrr’\n",
      "\n",
      "Updating HTML index of packages in '.Library'\n",
      "Making 'packages.html' ... done\n"
     ]
    }
   ],
   "source": [
    "install.packages('janitor')"
   ]
  },
  {
   "cell_type": "code",
   "execution_count": 5,
   "metadata": {},
   "outputs": [
    {
     "name": "stderr",
     "output_type": "stream",
     "text": [
      "also installing the dependency ‘gridExtra’\n",
      "\n",
      "Updating HTML index of packages in '.Library'\n",
      "Making 'packages.html' ... done\n"
     ]
    }
   ],
   "source": [
    "install.packages(\"gbm\")"
   ]
  },
  {
   "cell_type": "code",
   "execution_count": 7,
   "metadata": {},
   "outputs": [
    {
     "name": "stderr",
     "output_type": "stream",
     "text": [
      "Updating HTML index of packages in '.Library'\n",
      "Making 'packages.html' ... done\n"
     ]
    }
   ],
   "source": [
    "install.packages(\"rFerns\")"
   ]
  },
  {
   "cell_type": "code",
   "execution_count": 27,
   "metadata": {},
   "outputs": [
    {
     "name": "stderr",
     "output_type": "stream",
     "text": [
      "Updating HTML index of packages in '.Library'\n",
      "Making 'packages.html' ... done\n"
     ]
    }
   ],
   "source": [
    "install.packages('e1071')"
   ]
  },
  {
   "cell_type": "code",
   "execution_count": 26,
   "metadata": {},
   "outputs": [
    {
     "name": "stderr",
     "output_type": "stream",
     "text": [
      "Warning message:\n",
      "“package ‘libsvm’ is not available (for R version 3.5.1)”"
     ]
    }
   ],
   "source": [
    "install.packages('libsvm')"
   ]
  },
  {
   "cell_type": "code",
   "execution_count": 43,
   "metadata": {},
   "outputs": [],
   "source": [
    "source(\"CC.R\")\n",
    "source(\"testCC.r\")\n"
   ]
  },
  {
   "cell_type": "code",
   "execution_count": 44,
   "metadata": {
    "scrolled": true
   },
   "outputs": [
    {
     "name": "stderr",
     "output_type": "stream",
     "text": [
      "Resampling: cross-validation\n",
      "Measures:             multilabel.hamloss    multilabel.subset01   timepredict           \n",
      "[Resample] iter 1:    0.1894410             0.7494824             1.5730000             \n",
      "[Resample] iter 2:    0.1899351             0.7520661             1.5980000             \n",
      "[Resample] iter 3:    0.1873706             0.7536232             1.5700000             \n",
      "[Resample] iter 4:    0.1926945             0.7639752             1.5450000             \n",
      "[Resample] iter 5:    0.1920012             0.7809917             1.7030000             \n",
      "\n",
      "\n",
      "Aggregated Result: multilabel.hamloss.test.mean=0.1902885,multilabel.subset01.test.mean=0.7600277,timepredict.test.mean=1.5978000\n",
      "\n",
      "\n"
     ]
    },
    {
     "name": "stdout",
     "output_type": "stream",
     "text": [
      "Resample Result\n",
      "Task: yeast-example\n",
      "Learner: multilabel.CC.classif.svm\n",
      "Aggr perf: multilabel.hamloss.test.mean=0.1902885,multilabel.subset01.test.mean=0.7600277,timepredict.test.mean=1.5978000\n",
      "Runtime: 102.789\n"
     ]
    },
    {
     "name": "stderr",
     "output_type": "stream",
     "text": [
      "Resampling: cross-validation\n",
      "Measures:             multilabel.hamloss    multilabel.subset01   timepredict           \n",
      "[Resample] iter 1:    0.2086777             0.8347107             0.1850000             \n",
      "[Resample] iter 2:    0.1999408             0.8157350             0.1590000             \n",
      "[Resample] iter 3:    0.2147285             0.8078512             0.2590000             \n",
      "[Resample] iter 4:    0.2101449             0.8281573             0.1570000             \n",
      "[Resample] iter 5:    0.2021591             0.8053830             0.1730000             \n",
      "\n",
      "\n",
      "Aggregated Result: multilabel.hamloss.test.mean=0.2071302,multilabel.subset01.test.mean=0.8183675,timepredict.test.mean=0.1866000\n",
      "\n",
      "\n"
     ]
    },
    {
     "name": "stdout",
     "output_type": "stream",
     "text": [
      "Resample Result\n",
      "Task: yeast-example\n",
      "Learner: multilabel.CC.classif.gbm\n",
      "Aggr perf: multilabel.hamloss.test.mean=0.2071302,multilabel.subset01.test.mean=0.8183675,timepredict.test.mean=0.1866000\n",
      "Runtime: 51.9747\n"
     ]
    },
    {
     "name": "stderr",
     "output_type": "stream",
     "text": [
      "Resampling: cross-validation\n",
      "Measures:             multilabel.hamloss    multilabel.subset01   timepredict           \n",
      "[Resample] iter 1:    0.1973140             0.8533058             4.0480000             \n",
      "[Resample] iter 2:    0.1918072             0.8385093             3.4640000             \n",
      "[Resample] iter 3:    0.1887544             0.8202479             3.5850000             \n",
      "[Resample] iter 4:    0.1901804             0.8240166             3.3890000             \n",
      "[Resample] iter 5:    0.1904762             0.8447205             3.3930000             \n",
      "\n",
      "\n",
      "Aggregated Result: multilabel.hamloss.test.mean=0.1917064,multilabel.subset01.test.mean=0.8361600,timepredict.test.mean=3.5758000\n",
      "\n",
      "\n"
     ]
    },
    {
     "name": "stdout",
     "output_type": "stream",
     "text": [
      "Resample Result\n",
      "Task: yeast-example\n",
      "Learner: multilabel.randomForestSRC\n",
      "Aggr perf: multilabel.hamloss.test.mean=0.1917064,multilabel.subset01.test.mean=0.8361600,timepredict.test.mean=3.5758000\n",
      "Runtime: 443.018\n"
     ]
    },
    {
     "name": "stderr",
     "output_type": "stream",
     "text": [
      "Resampling: cross-validation\n",
      "Measures:             multilabel.hamloss    multilabel.subset01   timepredict           \n",
      "[Resample] iter 1:    0.4809228             0.9937888             0.0110000             \n",
      "[Resample] iter 2:    0.4665779             1.0000000             0.0090000             \n",
      "[Resample] iter 3:    0.4648033             1.0000000             0.0090000             \n",
      "[Resample] iter 4:    0.4608914             0.9979339             0.0090000             \n",
      "[Resample] iter 5:    0.4418536             1.0000000             0.0090000             \n",
      "\n",
      "\n",
      "Aggregated Result: multilabel.hamloss.test.mean=0.4630098,multilabel.subset01.test.mean=0.9983445,timepredict.test.mean=0.0094000\n",
      "\n",
      "\n"
     ]
    },
    {
     "name": "stdout",
     "output_type": "stream",
     "text": [
      "Resample Result\n",
      "Task: yeast-example\n",
      "Learner: multilabel.rFerns\n",
      "Aggr perf: multilabel.hamloss.test.mean=0.4630098,multilabel.subset01.test.mean=0.9983445,timepredict.test.mean=0.0094000\n",
      "Runtime: 0.619655\n"
     ]
    },
    {
     "name": "stderr",
     "output_type": "stream",
     "text": [
      "Resampling: cross-validation\n",
      "Measures:             multilabel.hamloss    multilabel.subset01   timepredict           \n",
      "[Resample] iter 1:    0.1770956             0.7314050             1.6100000             \n",
      "[Resample] iter 2:    0.1953564             0.7784679             1.5880000             \n",
      "[Resample] iter 3:    0.1981995             0.7252066             1.6330000             \n",
      "[Resample] iter 4:    0.1965395             0.7598344             1.5840000             \n",
      "[Resample] iter 5:    0.1907720             0.7743271             3.3110000             \n",
      "\n",
      "\n",
      "Aggregated Result: multilabel.hamloss.test.mean=0.1915926,multilabel.subset01.test.mean=0.7538482,timepredict.test.mean=1.9452000\n",
      "\n",
      "\n"
     ]
    },
    {
     "name": "stdout",
     "output_type": "stream",
     "text": [
      "Resample Result\n",
      "Task: yeast-example\n",
      "Learner: multilabel.classifierChains.classif.svm\n",
      "Aggr perf: multilabel.hamloss.test.mean=0.1915926,multilabel.subset01.test.mean=0.7538482,timepredict.test.mean=1.9452000\n",
      "Runtime: 105.717\n"
     ]
    },
    {
     "name": "stderr",
     "output_type": "stream",
     "text": [
      "Resampling: cross-validation\n",
      "Measures:             multilabel.hamloss    multilabel.subset01   timepredict           \n",
      "[Resample] iter 1:    0.2163561             0.8136646             0.3770000             \n",
      "[Resample] iter 2:    0.2156139             0.8202479             0.3400000             \n",
      "[Resample] iter 3:    0.2126590             0.7991718             0.1740000             \n",
      "[Resample] iter 4:    0.1996451             0.7929607             0.2430000             \n",
      "[Resample] iter 5:    0.2032172             0.7995868             0.1580000             \n",
      "\n",
      "\n",
      "Aggregated Result: multilabel.hamloss.test.mean=0.2094983,multilabel.subset01.test.mean=0.8051264,timepredict.test.mean=0.2584000\n",
      "\n",
      "\n"
     ]
    },
    {
     "name": "stdout",
     "output_type": "stream",
     "text": [
      "Resample Result\n",
      "Task: yeast-example\n",
      "Learner: multilabel.classifierChains.classif.gbm\n",
      "Aggr perf: multilabel.hamloss.test.mean=0.2094983,multilabel.subset01.test.mean=0.8051264,timepredict.test.mean=0.2584000\n",
      "Runtime: 79.9849\n"
     ]
    },
    {
     "name": "stderr",
     "output_type": "stream",
     "text": [
      "Resampling: cross-validation\n",
      "Measures:             multilabel.hamloss    multilabel.subset01   timepredict           \n",
      "[Resample] iter 1:    0.1872786             0.8202479             1.7500000             \n",
      "[Resample] iter 2:    0.1913635             0.7826087             2.4280000             \n",
      "[Resample] iter 3:    0.1824904             0.8053830             2.7820000             \n",
      "[Resample] iter 4:    0.1807851             0.7933884             1.7780000             \n",
      "[Resample] iter 5:    0.1932860             0.8302277             1.7500000             \n",
      "\n",
      "\n",
      "Aggregated Result: multilabel.hamloss.test.mean=0.1870407,multilabel.subset01.test.mean=0.8063712,timepredict.test.mean=2.0976000\n",
      "\n",
      "\n"
     ]
    },
    {
     "name": "stdout",
     "output_type": "stream",
     "text": [
      "Resample Result\n",
      "Task: yeast-example\n",
      "Learner: multilabel.binaryRelevance.classif.svm\n",
      "Aggr perf: multilabel.hamloss.test.mean=0.1870407,multilabel.subset01.test.mean=0.8063712,timepredict.test.mean=2.0976000\n",
      "Runtime: 129.973\n"
     ]
    },
    {
     "name": "stderr",
     "output_type": "stream",
     "text": [
      "Resampling: cross-validation\n",
      "Measures:             multilabel.hamloss    multilabel.subset01   timepredict           \n",
      "[Resample] iter 1:    0.1996451             0.8509317             0.1680000             \n",
      "[Resample] iter 2:    0.1996753             0.8574380             0.1670000             \n",
      "[Resample] iter 3:    0.2064640             0.8822314             0.1540000             \n",
      "[Resample] iter 4:    0.2008282             0.8881988             0.1810000             \n",
      "[Resample] iter 5:    0.1923987             0.8861284             0.1530000             \n",
      "\n",
      "\n",
      "Aggregated Result: multilabel.hamloss.test.mean=0.1998022,multilabel.subset01.test.mean=0.8729856,timepredict.test.mean=0.1646000\n",
      "\n",
      "\n"
     ]
    },
    {
     "name": "stdout",
     "output_type": "stream",
     "text": [
      "Resample Result\n",
      "Task: yeast-example\n",
      "Learner: multilabel.binaryRelevance.classif.gbm\n",
      "Aggr perf: multilabel.hamloss.test.mean=0.1998022,multilabel.subset01.test.mean=0.8729856,timepredict.test.mean=0.1646000\n",
      "Runtime: 43.9809\n"
     ]
    },
    {
     "name": "stderr",
     "output_type": "stream",
     "text": [
      "Resampling: cross-validation\n",
      "Measures:             multilabel.hamloss    multilabel.subset01   timepredict           \n",
      "Warning message in svm.default(x, y, scale = scale, ..., na.action = na.action):\n",
      "“Variable(s) ‘label10’ constant. Cannot scale data.”Warning message in svm.default(x, y, scale = scale, ..., na.action = na.action):\n",
      "“Variable(s) ‘label10’ constant. Cannot scale data.”Warning message in svm.default(x, y, scale = scale, ..., na.action = na.action):\n",
      "“Variable(s) ‘label10’ constant. Cannot scale data.”Warning message in svm.default(x, y, scale = scale, ..., na.action = na.action):\n",
      "“Variable(s) ‘label10’ and ‘label11’ constant. Cannot scale data.”Warning message in svm.default(x, y, scale = scale, ..., na.action = na.action):\n",
      "“Variable(s) ‘label10’ and ‘label11’ constant. Cannot scale data.”Warning message in svm.default(x, y, scale = scale, ..., na.action = na.action):\n",
      "“Variable(s) ‘label10’ and ‘label11’ constant. Cannot scale data.”Warning message in svm.default(x, y, scale = scale, ..., na.action = na.action):\n",
      "“Variable(s) ‘label10’ and ‘label11’ and ‘label12’ constant. Cannot scale data.”Warning message in svm.default(x, y, scale = scale, ..., na.action = na.action):\n",
      "“Variable(s) ‘label10’ and ‘label11’ and ‘label12’ constant. Cannot scale data.”Warning message in svm.default(x, y, scale = scale, ..., na.action = na.action):\n",
      "“Variable(s) ‘label10’ and ‘label11’ and ‘label12’ constant. Cannot scale data.”Warning message in svm.default(x, y, scale = scale, ..., na.action = na.action):\n",
      "“Variable(s) ‘label10’ and ‘label11’ and ‘label12’ and ‘label4’ constant. Cannot scale data.”Warning message in svm.default(x, y, scale = scale, ..., na.action = na.action):\n",
      "“Variable(s) ‘label10’ and ‘label11’ and ‘label12’ and ‘label4’ constant. Cannot scale data.”Warning message in svm.default(x, y, scale = scale, ..., na.action = na.action):\n",
      "“Variable(s) ‘label10’ and ‘label11’ and ‘label12’ and ‘label4’ constant. Cannot scale data.”Warning message in svm.default(x, y, scale = scale, ..., na.action = na.action):\n",
      "“Variable(s) ‘label10’ and ‘label11’ and ‘label12’ and ‘label4’ and ‘label6’ constant. Cannot scale data.”Warning message in svm.default(x, y, scale = scale, ..., na.action = na.action):\n",
      "“Variable(s) ‘label10’ and ‘label11’ and ‘label12’ and ‘label4’ and ‘label6’ constant. Cannot scale data.”Warning message in svm.default(x, y, scale = scale, ..., na.action = na.action):\n",
      "“Variable(s) ‘label10’ and ‘label11’ and ‘label12’ and ‘label4’ and ‘label6’ constant. Cannot scale data.”Warning message in svm.default(x, y, scale = scale, ..., na.action = na.action):\n",
      "“Variable(s) ‘label10’ and ‘label11’ and ‘label12’ and ‘label4’ and ‘label6’ and ‘label5’ constant. Cannot scale data.”Warning message in svm.default(x, y, scale = scale, ..., na.action = na.action):\n",
      "“Variable(s) ‘label10’ and ‘label11’ and ‘label12’ and ‘label4’ and ‘label6’ and ‘label5’ constant. Cannot scale data.”Warning message in svm.default(x, y, scale = scale, ..., na.action = na.action):\n",
      "“Variable(s) ‘label10’ and ‘label11’ and ‘label12’ and ‘label4’ and ‘label6’ and ‘label5’ constant. Cannot scale data.”Warning message in svm.default(x, y, scale = scale, ..., na.action = na.action):\n",
      "“Variable(s) ‘label10’ and ‘label11’ and ‘label12’ and ‘label4’ and ‘label6’ and ‘label5’ and ‘label9’ constant. Cannot scale data.”Warning message in svm.default(x, y, scale = scale, ..., na.action = na.action):\n",
      "“Variable(s) ‘label10’ and ‘label11’ and ‘label12’ and ‘label4’ and ‘label6’ and ‘label5’ and ‘label9’ constant. Cannot scale data.”Warning message in svm.default(x, y, scale = scale, ..., na.action = na.action):\n",
      "“Variable(s) ‘label10’ and ‘label11’ and ‘label12’ and ‘label4’ and ‘label6’ and ‘label5’ and ‘label9’ constant. Cannot scale data.”Warning message in svm.default(x, y, scale = scale, ..., na.action = na.action):\n",
      "“Variable(s) ‘label10’ and ‘label11’ and ‘label12’ and ‘label4’ and ‘label6’ and ‘label5’ and ‘label9’ constant. Cannot scale data.”Warning message in svm.default(x, y, scale = scale, ..., na.action = na.action):\n",
      "“Variable(s) ‘label10’ and ‘label11’ and ‘label12’ and ‘label4’ and ‘label6’ and ‘label5’ and ‘label9’ constant. Cannot scale data.”Warning message in svm.default(x, y, scale = scale, ..., na.action = na.action):\n",
      "“Variable(s) ‘label10’ and ‘label11’ and ‘label12’ and ‘label4’ and ‘label6’ and ‘label5’ and ‘label9’ constant. Cannot scale data.”Warning message in svm.default(x, y, scale = scale, ..., na.action = na.action):\n",
      "“Variable(s) ‘label10’ and ‘label11’ and ‘label12’ and ‘label4’ and ‘label6’ and ‘label5’ and ‘label9’ and ‘label7’ constant. Cannot scale data.”Warning message in svm.default(x, y, scale = scale, ..., na.action = na.action):\n",
      "“Variable(s) ‘label10’ and ‘label11’ and ‘label12’ and ‘label4’ and ‘label6’ and ‘label5’ and ‘label9’ and ‘label7’ constant. Cannot scale data.”Warning message in svm.default(x, y, scale = scale, ..., na.action = na.action):\n",
      "“Variable(s) ‘label10’ and ‘label11’ and ‘label12’ and ‘label4’ and ‘label6’ and ‘label5’ and ‘label9’ and ‘label7’ constant. Cannot scale data.”Warning message in svm.default(x, y, scale = scale, ..., na.action = na.action):\n",
      "“Variable(s) ‘label10’ and ‘label11’ and ‘label12’ and ‘label4’ and ‘label6’ and ‘label5’ and ‘label9’ and ‘label7’ and ‘label13’ constant. Cannot scale data.”Warning message in svm.default(x, y, scale = scale, ..., na.action = na.action):\n",
      "“Variable(s) ‘label10’ and ‘label11’ and ‘label12’ and ‘label4’ and ‘label6’ and ‘label5’ and ‘label9’ and ‘label7’ and ‘label13’ constant. Cannot scale data.”Warning message in svm.default(x, y, scale = scale, ..., na.action = na.action):\n",
      "“Variable(s) ‘label10’ and ‘label11’ and ‘label12’ and ‘label4’ and ‘label6’ and ‘label5’ and ‘label9’ and ‘label7’ and ‘label13’ constant. Cannot scale data.”Warning message in svm.default(x, y, scale = scale, ..., na.action = na.action):\n",
      "“Variable(s) ‘label10’ and ‘label11’ and ‘label12’ and ‘label4’ and ‘label6’ and ‘label5’ and ‘label9’ and ‘label7’ and ‘label13’ and ‘label8’ constant. Cannot scale data.”Warning message in svm.default(x, y, scale = scale, ..., na.action = na.action):\n",
      "“Variable(s) ‘label10’ and ‘label11’ and ‘label12’ and ‘label4’ and ‘label6’ and ‘label5’ and ‘label9’ and ‘label7’ and ‘label13’ and ‘label8’ constant. Cannot scale data.”Warning message in svm.default(x, y, scale = scale, ..., na.action = na.action):\n",
      "“Variable(s) ‘label10’ and ‘label11’ and ‘label12’ and ‘label4’ and ‘label6’ and ‘label5’ and ‘label9’ and ‘label7’ and ‘label13’ and ‘label8’ constant. Cannot scale data.”Warning message in svm.default(x, y, scale = scale, ..., na.action = na.action):\n",
      "“Variable(s) ‘label10’ and ‘label11’ and ‘label12’ and ‘label4’ and ‘label6’ and ‘label5’ and ‘label9’ and ‘label7’ and ‘label13’ and ‘label8’ and ‘label14’ constant. Cannot scale data.”[Resample] iter 1:    0.2051168             0.9544513             1.5230000             \n",
      "Warning message in svm.default(x, y, scale = scale, ..., na.action = na.action):\n",
      "“Variable(s) ‘label8’ constant. Cannot scale data.”Warning message in svm.default(x, y, scale = scale, ..., na.action = na.action):\n",
      "“Variable(s) ‘label8’ constant. Cannot scale data.”Warning message in svm.default(x, y, scale = scale, ..., na.action = na.action):\n",
      "“Variable(s) ‘label8’ constant. Cannot scale data.”Warning message in svm.default(x, y, scale = scale, ..., na.action = na.action):\n",
      "“Variable(s) ‘label8’ constant. Cannot scale data.”Warning message in svm.default(x, y, scale = scale, ..., na.action = na.action):\n",
      "“Variable(s) ‘label14’ constant. Cannot scale data.”Warning message in svm.default(x, y, scale = scale, ..., na.action = na.action):\n",
      "“Variable(s) ‘label14’ constant. Cannot scale data.”Warning message in svm.default(x, y, scale = scale, ..., na.action = na.action):\n",
      "“Variable(s) ‘label8’ and ‘label12’ and ‘label14’ constant. Cannot scale data.”Warning message in svm.default(x, y, scale = scale, ..., na.action = na.action):\n",
      "“Variable(s) ‘label14’ and ‘label7’ constant. Cannot scale data.”Warning message in svm.default(x, y, scale = scale, ..., na.action = na.action):\n",
      "“Variable(s) ‘label14’ and ‘label7’ constant. Cannot scale data.”Warning message in svm.default(x, y, scale = scale, ..., na.action = na.action):\n"
     ]
    },
    {
     "name": "stderr",
     "output_type": "stream",
     "text": [
      "“Variable(s) ‘label8’ and ‘label14’ and ‘label7’ constant. Cannot scale data.”Warning message in svm.default(x, y, scale = scale, ..., na.action = na.action):\n",
      "“Variable(s) ‘label14’ and ‘label7’ and ‘label9’ constant. Cannot scale data.”Warning message in svm.default(x, y, scale = scale, ..., na.action = na.action):\n",
      "“Variable(s) ‘label8’ and ‘label14’ and ‘label7’ and ‘label9’ constant. Cannot scale data.”Warning message in svm.default(x, y, scale = scale, ..., na.action = na.action):\n",
      "“Variable(s) ‘label14’ and ‘label7’ and ‘label9’ constant. Cannot scale data.”Warning message in svm.default(x, y, scale = scale, ..., na.action = na.action):\n",
      "“Variable(s) ‘label14’ and ‘label7’ and ‘label9’ constant. Cannot scale data.”Warning message in svm.default(x, y, scale = scale, ..., na.action = na.action):\n",
      "“Variable(s) ‘label14’ and ‘label7’ and ‘label9’ constant. Cannot scale data.”Warning message in svm.default(x, y, scale = scale, ..., na.action = na.action):\n",
      "“Variable(s) ‘label8’ and ‘label14’ and ‘label7’ and ‘label9’ constant. Cannot scale data.”Warning message in svm.default(x, y, scale = scale, ..., na.action = na.action):\n",
      "“Variable(s) ‘label14’ and ‘label7’ and ‘label9’ and ‘label13’ constant. Cannot scale data.”Warning message in svm.default(x, y, scale = scale, ..., na.action = na.action):\n",
      "“Variable(s) ‘label14’ and ‘label7’ and ‘label9’ and ‘label13’ constant. Cannot scale data.”Warning message in svm.default(x, y, scale = scale, ..., na.action = na.action):\n",
      "“Variable(s) ‘label8’ and ‘label14’ and ‘label7’ and ‘label9’ and ‘label13’ constant. Cannot scale data.”Warning message in svm.default(x, y, scale = scale, ..., na.action = na.action):\n",
      "“Variable(s) ‘label14’ and ‘label7’ and ‘label9’ and ‘label13’ and ‘label3’ constant. Cannot scale data.”Warning message in svm.default(x, y, scale = scale, ..., na.action = na.action):\n",
      "“Variable(s) ‘label14’ and ‘label7’ and ‘label9’ and ‘label13’ and ‘label3’ constant. Cannot scale data.”Warning message in svm.default(x, y, scale = scale, ..., na.action = na.action):\n",
      "“Variable(s) ‘label8’ and ‘label14’ and ‘label7’ and ‘label9’ and ‘label13’ and ‘label3’ constant. Cannot scale data.”Warning message in svm.default(x, y, scale = scale, ..., na.action = na.action):\n",
      "“Variable(s) ‘label14’ and ‘label7’ and ‘label9’ and ‘label13’ and ‘label3’ and ‘label10’ constant. Cannot scale data.”Warning message in svm.default(x, y, scale = scale, ..., na.action = na.action):\n",
      "“Variable(s) ‘label8’ and ‘label14’ and ‘label7’ and ‘label9’ and ‘label13’ and ‘label3’ and ‘label10’ constant. Cannot scale data.”Warning message in svm.default(x, y, scale = scale, ..., na.action = na.action):\n",
      "“Variable(s) ‘label14’ and ‘label7’ and ‘label9’ and ‘label13’ and ‘label3’ and ‘label10’ constant. Cannot scale data.”Warning message in svm.default(x, y, scale = scale, ..., na.action = na.action):\n",
      "“Variable(s) ‘label14’ and ‘label7’ and ‘label9’ and ‘label13’ and ‘label3’ and ‘label10’ and ‘label2’ constant. Cannot scale data.”Warning message in svm.default(x, y, scale = scale, ..., na.action = na.action):\n",
      "“Variable(s) ‘label8’ and ‘label14’ and ‘label7’ and ‘label9’ and ‘label13’ and ‘label3’ and ‘label10’ and ‘label2’ constant. Cannot scale data.”Warning message in svm.default(x, y, scale = scale, ..., na.action = na.action):\n",
      "“Variable(s) ‘label14’ and ‘label7’ and ‘label9’ and ‘label13’ and ‘label3’ and ‘label10’ and ‘label2’ constant. Cannot scale data.”Warning message in svm.default(x, y, scale = scale, ..., na.action = na.action):\n",
      "“Variable(s) ‘label14’ and ‘label7’ and ‘label9’ and ‘label13’ and ‘label3’ and ‘label10’ and ‘label2’ and ‘label11’ constant. Cannot scale data.”[Resample] iter 2:    0.2151730             0.9275362             2.1750000             \n",
      "Warning message in svm.default(x, y, scale = scale, ..., na.action = na.action):\n",
      "“Variable(s) ‘label11’ constant. Cannot scale data.”Warning message in svm.default(x, y, scale = scale, ..., na.action = na.action):\n",
      "“Variable(s) ‘label13’ constant. Cannot scale data.”Warning message in svm.default(x, y, scale = scale, ..., na.action = na.action):\n",
      "“Variable(s) ‘label11’ and ‘label13’ constant. Cannot scale data.”Warning message in svm.default(x, y, scale = scale, ..., na.action = na.action):\n",
      "“Variable(s) ‘label13’ constant. Cannot scale data.”Warning message in svm.default(x, y, scale = scale, ..., na.action = na.action):\n",
      "“Variable(s) ‘label13’ and ‘label9’ constant. Cannot scale data.”Warning message in svm.default(x, y, scale = scale, ..., na.action = na.action):\n",
      "“Variable(s) ‘label13’ and ‘label9’ constant. Cannot scale data.”Warning message in svm.default(x, y, scale = scale, ..., na.action = na.action):\n",
      "“Variable(s) ‘label13’ and ‘label9’ constant. Cannot scale data.”Warning message in svm.default(x, y, scale = scale, ..., na.action = na.action):\n",
      "“Variable(s) ‘label13’ and ‘label9’ and ‘label12’ constant. Cannot scale data.”Warning message in svm.default(x, y, scale = scale, ..., na.action = na.action):\n",
      "“Variable(s) ‘label13’ and ‘label9’ and ‘label12’ constant. Cannot scale data.”Warning message in svm.default(x, y, scale = scale, ..., na.action = na.action):\n",
      "“Variable(s) ‘label11’ and ‘label13’ and ‘label9’ and ‘label12’ constant. Cannot scale data.”Warning message in svm.default(x, y, scale = scale, ..., na.action = na.action):\n",
      "“Variable(s) ‘label13’ and ‘label9’ and ‘label12’ and ‘label2’ constant. Cannot scale data.”Warning message in svm.default(x, y, scale = scale, ..., na.action = na.action):\n",
      "“Variable(s) ‘label11’ and ‘label13’ and ‘label9’ and ‘label12’ and ‘label2’ constant. Cannot scale data.”Warning message in svm.default(x, y, scale = scale, ..., na.action = na.action):\n",
      "“Variable(s) ‘label13’ and ‘label9’ and ‘label12’ and ‘label2’ constant. Cannot scale data.”Warning message in svm.default(x, y, scale = scale, ..., na.action = na.action):\n",
      "“Variable(s) ‘label13’ and ‘label9’ and ‘label12’ and ‘label2’ and ‘label4’ constant. Cannot scale data.”Warning message in svm.default(x, y, scale = scale, ..., na.action = na.action):\n",
      "“Variable(s) ‘label13’ and ‘label9’ and ‘label12’ and ‘label2’ and ‘label4’ constant. Cannot scale data.”Warning message in svm.default(x, y, scale = scale, ..., na.action = na.action):\n",
      "“Variable(s) ‘label11’ and ‘label13’ and ‘label9’ and ‘label12’ and ‘label2’ and ‘label4’ constant. Cannot scale data.”Warning message in svm.default(x, y, scale = scale, ..., na.action = na.action):\n",
      "“Variable(s) ‘label13’ and ‘label9’ and ‘label12’ and ‘label2’ and ‘label4’ and ‘label5’ constant. Cannot scale data.”Warning message in svm.default(x, y, scale = scale, ..., na.action = na.action):\n",
      "“Variable(s) ‘label13’ and ‘label9’ and ‘label12’ and ‘label2’ and ‘label4’ and ‘label5’ constant. Cannot scale data.”Warning message in svm.default(x, y, scale = scale, ..., na.action = na.action):\n",
      "“Variable(s) ‘label11’ and ‘label13’ and ‘label9’ and ‘label12’ and ‘label2’ and ‘label4’ and ‘label5’ constant. Cannot scale data.”Warning message in svm.default(x, y, scale = scale, ..., na.action = na.action):\n",
      "“Variable(s) ‘label13’ and ‘label9’ and ‘label12’ and ‘label2’ and ‘label4’ and ‘label5’ and ‘label7’ constant. Cannot scale data.”Warning message in svm.default(x, y, scale = scale, ..., na.action = na.action):\n",
      "“Variable(s) ‘label11’ and ‘label13’ and ‘label9’ and ‘label12’ and ‘label2’ and ‘label4’ and ‘label5’ and ‘label7’ constant. Cannot scale data.”Warning message in svm.default(x, y, scale = scale, ..., na.action = na.action):\n",
      "“Variable(s) ‘label13’ and ‘label9’ and ‘label12’ and ‘label2’ and ‘label4’ and ‘label5’ and ‘label7’ constant. Cannot scale data.”Warning message in svm.default(x, y, scale = scale, ..., na.action = na.action):\n",
      "“Variable(s) ‘label13’ and ‘label9’ and ‘label12’ and ‘label2’ and ‘label4’ and ‘label5’ and ‘label7’ and ‘label10’ constant. Cannot scale data.”Warning message in svm.default(x, y, scale = scale, ..., na.action = na.action):\n",
      "“Variable(s) ‘label13’ and ‘label9’ and ‘label12’ and ‘label2’ and ‘label4’ and ‘label5’ and ‘label7’ and ‘label10’ constant. Cannot scale data.”Warning message in svm.default(x, y, scale = scale, ..., na.action = na.action):\n"
     ]
    },
    {
     "name": "stderr",
     "output_type": "stream",
     "text": [
      "“Variable(s) ‘label13’ and ‘label9’ and ‘label12’ and ‘label2’ and ‘label4’ and ‘label5’ and ‘label7’ and ‘label10’ constant. Cannot scale data.”Warning message in svm.default(x, y, scale = scale, ..., na.action = na.action):\n",
      "“Variable(s) ‘label13’ and ‘label9’ and ‘label12’ and ‘label2’ and ‘label4’ and ‘label5’ and ‘label7’ and ‘label10’ and ‘label1’ constant. Cannot scale data.”Warning message in svm.default(x, y, scale = scale, ..., na.action = na.action):\n",
      "“Variable(s) ‘label13’ and ‘label9’ and ‘label12’ and ‘label2’ and ‘label4’ and ‘label5’ and ‘label7’ and ‘label10’ and ‘label1’ constant. Cannot scale data.”Warning message in svm.default(x, y, scale = scale, ..., na.action = na.action):\n",
      "“Variable(s) ‘label13’ and ‘label9’ and ‘label12’ and ‘label2’ and ‘label4’ and ‘label5’ and ‘label7’ and ‘label10’ and ‘label1’ constant. Cannot scale data.”Warning message in svm.default(x, y, scale = scale, ..., na.action = na.action):\n",
      "“Variable(s) ‘label13’ and ‘label9’ and ‘label12’ and ‘label2’ and ‘label4’ and ‘label5’ and ‘label7’ and ‘label10’ and ‘label1’ and ‘label14’ constant. Cannot scale data.”Warning message in svm.default(x, y, scale = scale, ..., na.action = na.action):\n",
      "“Variable(s) ‘label11’ and ‘label13’ and ‘label9’ and ‘label12’ and ‘label2’ and ‘label4’ and ‘label5’ and ‘label7’ and ‘label10’ and ‘label1’ and ‘label14’ constant. Cannot scale data.”Warning message in svm.default(x, y, scale = scale, ..., na.action = na.action):\n",
      "“Variable(s) ‘label13’ and ‘label9’ and ‘label12’ and ‘label2’ and ‘label4’ and ‘label5’ and ‘label7’ and ‘label10’ and ‘label1’ and ‘label14’ constant. Cannot scale data.”Warning message in svm.default(x, y, scale = scale, ..., na.action = na.action):\n",
      "“Variable(s) ‘label13’ and ‘label9’ and ‘label12’ and ‘label2’ and ‘label4’ and ‘label5’ and ‘label7’ and ‘label10’ and ‘label1’ and ‘label14’ and ‘label8’ constant. Cannot scale data.”[Resample] iter 3:    0.2213695             0.9855372             1.4940000             \n",
      "Warning message in svm.default(x, y, scale = scale, ..., na.action = na.action):\n",
      "“Variable(s) ‘label14’ constant. Cannot scale data.”Warning message in svm.default(x, y, scale = scale, ..., na.action = na.action):\n",
      "“Variable(s) ‘label14’ constant. Cannot scale data.”Warning message in svm.default(x, y, scale = scale, ..., na.action = na.action):\n",
      "“Variable(s) ‘label14’ constant. Cannot scale data.”Warning message in svm.default(x, y, scale = scale, ..., na.action = na.action):\n",
      "“Variable(s) ‘label14’ and ‘label5’ constant. Cannot scale data.”Warning message in svm.default(x, y, scale = scale, ..., na.action = na.action):\n",
      "“Variable(s) ‘label14’ and ‘label5’ constant. Cannot scale data.”Warning message in svm.default(x, y, scale = scale, ..., na.action = na.action):\n",
      "“Variable(s) ‘label14’ and ‘label5’ constant. Cannot scale data.”Warning message in svm.default(x, y, scale = scale, ..., na.action = na.action):\n",
      "“Variable(s) ‘label14’ and ‘label5’ and ‘label8’ constant. Cannot scale data.”Warning message in svm.default(x, y, scale = scale, ..., na.action = na.action):\n",
      "“Variable(s) ‘label14’ and ‘label5’ and ‘label8’ constant. Cannot scale data.”Warning message in svm.default(x, y, scale = scale, ..., na.action = na.action):\n",
      "“Variable(s) ‘label14’ and ‘label5’ and ‘label8’ constant. Cannot scale data.”Warning message in svm.default(x, y, scale = scale, ..., na.action = na.action):\n",
      "“Variable(s) ‘label14’ and ‘label5’ and ‘label8’ and ‘label11’ constant. Cannot scale data.”Warning message in svm.default(x, y, scale = scale, ..., na.action = na.action):\n",
      "“Variable(s) ‘label14’ and ‘label5’ and ‘label8’ and ‘label11’ constant. Cannot scale data.”Warning message in svm.default(x, y, scale = scale, ..., na.action = na.action):\n",
      "“Variable(s) ‘label14’ and ‘label5’ and ‘label8’ and ‘label11’ constant. Cannot scale data.”Warning message in svm.default(x, y, scale = scale, ..., na.action = na.action):\n",
      "“Variable(s) ‘label14’ and ‘label5’ and ‘label8’ and ‘label11’ and ‘label1’ constant. Cannot scale data.”Warning message in svm.default(x, y, scale = scale, ..., na.action = na.action):\n",
      "“Variable(s) ‘label14’ and ‘label5’ and ‘label8’ and ‘label11’ and ‘label1’ constant. Cannot scale data.”Warning message in svm.default(x, y, scale = scale, ..., na.action = na.action):\n",
      "“Variable(s) ‘label14’ and ‘label5’ and ‘label8’ and ‘label11’ and ‘label1’ constant. Cannot scale data.”Warning message in svm.default(x, y, scale = scale, ..., na.action = na.action):\n",
      "“Variable(s) ‘label14’ and ‘label5’ and ‘label8’ and ‘label11’ and ‘label1’ and ‘label6’ constant. Cannot scale data.”Warning message in svm.default(x, y, scale = scale, ..., na.action = na.action):\n",
      "“Variable(s) ‘label14’ and ‘label5’ and ‘label8’ and ‘label11’ and ‘label1’ and ‘label6’ constant. Cannot scale data.”Warning message in svm.default(x, y, scale = scale, ..., na.action = na.action):\n",
      "“Variable(s) ‘label14’ and ‘label5’ and ‘label8’ and ‘label11’ and ‘label1’ and ‘label6’ constant. Cannot scale data.”Warning message in svm.default(x, y, scale = scale, ..., na.action = na.action):\n",
      "“Variable(s) ‘label14’ and ‘label5’ and ‘label8’ and ‘label11’ and ‘label1’ and ‘label6’ constant. Cannot scale data.”Warning message in svm.default(x, y, scale = scale, ..., na.action = na.action):\n",
      "“Variable(s) ‘label14’ and ‘label5’ and ‘label8’ and ‘label11’ and ‘label1’ and ‘label6’ constant. Cannot scale data.”Warning message in svm.default(x, y, scale = scale, ..., na.action = na.action):\n",
      "“Variable(s) ‘label14’ and ‘label5’ and ‘label8’ and ‘label11’ and ‘label1’ and ‘label6’ constant. Cannot scale data.”Warning message in svm.default(x, y, scale = scale, ..., na.action = na.action):\n",
      "“Variable(s) ‘label14’ and ‘label5’ and ‘label8’ and ‘label11’ and ‘label1’ and ‘label6’ and ‘label12’ constant. Cannot scale data.”Warning message in svm.default(x, y, scale = scale, ..., na.action = na.action):\n",
      "“Variable(s) ‘label14’ and ‘label5’ and ‘label8’ and ‘label11’ and ‘label1’ and ‘label6’ and ‘label12’ constant. Cannot scale data.”Warning message in svm.default(x, y, scale = scale, ..., na.action = na.action):\n",
      "“Variable(s) ‘label14’ and ‘label5’ and ‘label8’ and ‘label11’ and ‘label1’ and ‘label6’ and ‘label12’ constant. Cannot scale data.”Warning message in svm.default(x, y, scale = scale, ..., na.action = na.action):\n",
      "“Variable(s) ‘label14’ and ‘label5’ and ‘label8’ and ‘label11’ and ‘label1’ and ‘label6’ and ‘label12’ and ‘label9’ constant. Cannot scale data.”Warning message in svm.default(x, y, scale = scale, ..., na.action = na.action):\n",
      "“Variable(s) ‘label14’ and ‘label5’ and ‘label8’ and ‘label11’ and ‘label1’ and ‘label6’ and ‘label12’ and ‘label9’ constant. Cannot scale data.”Warning message in svm.default(x, y, scale = scale, ..., na.action = na.action):\n",
      "“Variable(s) ‘label14’ and ‘label5’ and ‘label8’ and ‘label11’ and ‘label1’ and ‘label6’ and ‘label12’ and ‘label9’ constant. Cannot scale data.”Warning message in svm.default(x, y, scale = scale, ..., na.action = na.action):\n",
      "“Variable(s) ‘label14’ and ‘label5’ and ‘label8’ and ‘label11’ and ‘label1’ and ‘label6’ and ‘label12’ and ‘label9’ and ‘label7’ constant. Cannot scale data.”Warning message in svm.default(x, y, scale = scale, ..., na.action = na.action):\n",
      "“Variable(s) ‘label14’ and ‘label5’ and ‘label8’ and ‘label11’ and ‘label1’ and ‘label6’ and ‘label12’ and ‘label9’ and ‘label7’ constant. Cannot scale data.”Warning message in svm.default(x, y, scale = scale, ..., na.action = na.action):\n",
      "“Variable(s) ‘label14’ and ‘label5’ and ‘label8’ and ‘label11’ and ‘label1’ and ‘label6’ and ‘label12’ and ‘label9’ and ‘label7’ constant. Cannot scale data.”Warning message in svm.default(x, y, scale = scale, ..., na.action = na.action):\n",
      "“Variable(s) ‘label14’ and ‘label5’ and ‘label8’ and ‘label11’ and ‘label1’ and ‘label6’ and ‘label12’ and ‘label9’ and ‘label7’ and ‘label13’ constant. Cannot scale data.”[Resample] iter 4:    0.2199054             0.9917184             2.8270000             \n",
      "Warning message in svm.default(x, y, scale = scale, ..., na.action = na.action):\n",
      "“Variable(s) ‘label11’ constant. Cannot scale data.”Warning message in svm.default(x, y, scale = scale, ..., na.action = na.action):\n"
     ]
    },
    {
     "name": "stderr",
     "output_type": "stream",
     "text": [
      "“Variable(s) ‘label14’ constant. Cannot scale data.”Warning message in svm.default(x, y, scale = scale, ..., na.action = na.action):\n",
      "“Variable(s) ‘label11’ and ‘label14’ constant. Cannot scale data.”Warning message in svm.default(x, y, scale = scale, ..., na.action = na.action):\n",
      "“Variable(s) ‘label14’ constant. Cannot scale data.”Warning message in svm.default(x, y, scale = scale, ..., na.action = na.action):\n",
      "“Variable(s) ‘label14’ and ‘label2’ constant. Cannot scale data.”Warning message in svm.default(x, y, scale = scale, ..., na.action = na.action):\n",
      "“Variable(s) ‘label14’ and ‘label2’ constant. Cannot scale data.”Warning message in svm.default(x, y, scale = scale, ..., na.action = na.action):\n",
      "“Variable(s) ‘label11’ and ‘label14’ and ‘label2’ constant. Cannot scale data.”Warning message in svm.default(x, y, scale = scale, ..., na.action = na.action):\n",
      "“Variable(s) ‘label14’ and ‘label2’ and ‘label10’ constant. Cannot scale data.”Warning message in svm.default(x, y, scale = scale, ..., na.action = na.action):\n",
      "“Variable(s) ‘label14’ and ‘label2’ and ‘label10’ constant. Cannot scale data.”Warning message in svm.default(x, y, scale = scale, ..., na.action = na.action):\n",
      "“Variable(s) ‘label11’ and ‘label14’ and ‘label2’ and ‘label10’ constant. Cannot scale data.”Warning message in svm.default(x, y, scale = scale, ..., na.action = na.action):\n",
      "“Variable(s) ‘label14’ and ‘label2’ and ‘label10’ and ‘label12’ constant. Cannot scale data.”Warning message in svm.default(x, y, scale = scale, ..., na.action = na.action):\n",
      "“Variable(s) ‘label14’ and ‘label2’ and ‘label10’ and ‘label12’ constant. Cannot scale data.”Warning message in svm.default(x, y, scale = scale, ..., na.action = na.action):\n",
      "“Variable(s) ‘label11’ and ‘label14’ and ‘label2’ and ‘label10’ and ‘label12’ constant. Cannot scale data.”Warning message in svm.default(x, y, scale = scale, ..., na.action = na.action):\n",
      "“Variable(s) ‘label14’ and ‘label2’ and ‘label10’ and ‘label12’ and ‘label5’ constant. Cannot scale data.”Warning message in svm.default(x, y, scale = scale, ..., na.action = na.action):\n",
      "“Variable(s) ‘label11’ and ‘label14’ and ‘label2’ and ‘label10’ and ‘label12’ and ‘label5’ constant. Cannot scale data.”Warning message in svm.default(x, y, scale = scale, ..., na.action = na.action):\n",
      "“Variable(s) ‘label14’ and ‘label2’ and ‘label10’ and ‘label12’ and ‘label5’ constant. Cannot scale data.”Warning message in svm.default(x, y, scale = scale, ..., na.action = na.action):\n",
      "“Variable(s) ‘label14’ and ‘label2’ and ‘label10’ and ‘label12’ and ‘label5’ and ‘label4’ constant. Cannot scale data.”Warning message in svm.default(x, y, scale = scale, ..., na.action = na.action):\n",
      "“Variable(s) ‘label11’ and ‘label14’ and ‘label2’ and ‘label10’ and ‘label12’ and ‘label5’ and ‘label4’ constant. Cannot scale data.”Warning message in svm.default(x, y, scale = scale, ..., na.action = na.action):\n",
      "“Variable(s) ‘label14’ and ‘label2’ and ‘label10’ and ‘label12’ and ‘label5’ and ‘label4’ constant. Cannot scale data.”Warning message in svm.default(x, y, scale = scale, ..., na.action = na.action):\n",
      "“Variable(s) ‘label14’ and ‘label2’ and ‘label10’ and ‘label12’ and ‘label5’ and ‘label4’ and ‘label9’ constant. Cannot scale data.”Warning message in svm.default(x, y, scale = scale, ..., na.action = na.action):\n",
      "“Variable(s) ‘label11’ and ‘label14’ and ‘label2’ and ‘label10’ and ‘label12’ and ‘label5’ and ‘label4’ and ‘label9’ constant. Cannot scale data.”Warning message in svm.default(x, y, scale = scale, ..., na.action = na.action):\n",
      "“Variable(s) ‘label14’ and ‘label2’ and ‘label10’ and ‘label12’ and ‘label5’ and ‘label4’ and ‘label9’ constant. Cannot scale data.”Warning message in svm.default(x, y, scale = scale, ..., na.action = na.action):\n",
      "“Variable(s) ‘label14’ and ‘label2’ and ‘label10’ and ‘label12’ and ‘label5’ and ‘label4’ and ‘label9’ and ‘label6’ constant. Cannot scale data.”[Resample] iter 5:    0.2107438             0.9504132             1.6350000             \n",
      "\n",
      "\n",
      "Aggregated Result: multilabel.hamloss.test.mean=0.2144617,multilabel.subset01.test.mean=0.9619313,timepredict.test.mean=1.9308000\n",
      "\n",
      "\n"
     ]
    },
    {
     "name": "stdout",
     "output_type": "stream",
     "text": [
      "Resample Result\n",
      "Task: yeast-example\n",
      "Learner: multilabel.nestedStacking.classif.svm\n",
      "Aggr perf: multilabel.hamloss.test.mean=0.2144617,multilabel.subset01.test.mean=0.9619313,timepredict.test.mean=1.9308000\n",
      "Runtime: 185.821\n"
     ]
    },
    {
     "name": "stderr",
     "output_type": "stream",
     "text": [
      "Resampling: cross-validation\n",
      "Measures:             multilabel.hamloss    multilabel.subset01   timepredict           \n",
      "[Resample] iter 1:    0.2011239             0.8654244             0.3560000             \n",
      "[Resample] iter 2:    0.1996753             0.8657025             0.3560000             \n",
      "[Resample] iter 3:    0.1940254             0.8467909             0.3380000             \n",
      "Warning message in gbm.fit(x = x, y = y, offset = offset, distribution = distribution, :\n",
      "“variable 117: label14.1 has no variation.”Warning message in gbm.fit(x = x, y = y, offset = offset, distribution = distribution, :\n",
      "“variable 117: label14.1 has no variation.”Warning message in gbm.fit(x = x, y = y, offset = offset, distribution = distribution, :\n",
      "“variable 117: label14.1 has no variation.”Warning message in gbm.fit(x = x, y = y, offset = offset, distribution = distribution, :\n",
      "“variable 117: label14.1 has no variation.”Warning message in gbm.fit(x = x, y = y, offset = offset, distribution = distribution, :\n",
      "“variable 117: label14.1 has no variation.”Warning message in gbm.fit(x = x, y = y, offset = offset, distribution = distribution, :\n",
      "“variable 117: label14.1 has no variation.”Warning message in gbm.fit(x = x, y = y, offset = offset, distribution = distribution, :\n",
      "“variable 117: label14.1 has no variation.”Warning message in gbm.fit(x = x, y = y, offset = offset, distribution = distribution, :\n",
      "“variable 117: label14.1 has no variation.”Warning message in gbm.fit(x = x, y = y, offset = offset, distribution = distribution, :\n",
      "“variable 117: label14.1 has no variation.”Warning message in gbm.fit(x = x, y = y, offset = offset, distribution = distribution, :\n",
      "“variable 117: label14.1 has no variation.”Warning message in gbm.fit(x = x, y = y, offset = offset, distribution = distribution, :\n",
      "“variable 117: label14.1 has no variation.”Warning message in gbm.fit(x = x, y = y, offset = offset, distribution = distribution, :\n",
      "“variable 117: label14.1 has no variation.”Warning message in gbm.fit(x = x, y = y, offset = offset, distribution = distribution, :\n",
      "“variable 117: label14.1 has no variation.”Warning message in gbm.fit(x = x, y = y, offset = offset, distribution = distribution, :\n",
      "“variable 117: label14.1 has no variation.”[Resample] iter 4:    0.1933294             0.8347107             0.3500000             \n",
      "[Resample] iter 5:    0.1999408             0.8674948             0.3450000             \n",
      "\n",
      "\n",
      "Aggregated Result: multilabel.hamloss.test.mean=0.1976190,multilabel.subset01.test.mean=0.8560247,timepredict.test.mean=0.3490000\n",
      "\n",
      "\n"
     ]
    },
    {
     "name": "stdout",
     "output_type": "stream",
     "text": [
      "Resample Result\n",
      "Task: yeast-example\n",
      "Learner: multilabel.stacking.classif.gbm\n",
      "Aggr perf: multilabel.hamloss.test.mean=0.1976190,multilabel.subset01.test.mean=0.8560247,timepredict.test.mean=0.3490000\n",
      "Runtime: 151.195\n"
     ]
    },
    {
     "name": "stderr",
     "output_type": "stream",
     "text": [
      "Resampling: cross-validation\n",
      "Measures:             multilabel.hamloss    multilabel.subset01   timepredict           \n",
      "[Resample] iter 1:    0.2064640             0.8161157             3.2380000             \n",
      "[Resample] iter 2:    0.1867791             0.7908903             3.5720000             \n",
      "[Resample] iter 3:    0.1940673             0.8078512             3.2880000             \n",
      "[Resample] iter 4:    0.2039337             0.7991718             3.2130000             \n",
      "[Resample] iter 5:    0.1963916             0.7908903             3.3200000             \n",
      "\n",
      "\n",
      "Aggregated Result: multilabel.hamloss.test.mean=0.1975271,multilabel.subset01.test.mean=0.8009839,timepredict.test.mean=3.3262000\n",
      "\n",
      "\n"
     ]
    },
    {
     "name": "stdout",
     "output_type": "stream",
     "text": [
      "Resample Result\n",
      "Task: yeast-example\n",
      "Learner: multilabel.DBR.classif.svm\n",
      "Aggr perf: multilabel.hamloss.test.mean=0.1975271,multilabel.subset01.test.mean=0.8009839,timepredict.test.mean=3.3262000\n",
      "Runtime: 222.293\n"
     ]
    },
    {
     "name": "stderr",
     "output_type": "stream",
     "text": [
      "Resampling: cross-validation\n",
      "Measures:             multilabel.hamloss    multilabel.subset01   timepredict           \n",
      "[Resample] iter 1:    0.2166519             0.8819876             0.3320000             \n",
      "[Resample] iter 2:    0.2145809             0.8842975             0.3520000             \n",
      "[Resample] iter 3:    0.2184265             0.8902692             0.3240000             \n",
      "[Resample] iter 4:    0.2167998             0.8964803             0.3200000             \n",
      "[Resample] iter 5:    0.2182704             0.8677686             0.4450000             \n",
      "\n",
      "\n",
      "Aggregated Result: multilabel.hamloss.test.mean=0.2169459,multilabel.subset01.test.mean=0.8841606,timepredict.test.mean=0.3546000\n",
      "\n",
      "\n"
     ]
    },
    {
     "name": "stdout",
     "output_type": "stream",
     "text": [
      "Resample Result\n",
      "Task: yeast-example\n",
      "Learner: multilabel.DBR.classif.gbm\n",
      "Aggr perf: multilabel.hamloss.test.mean=0.2169459,multilabel.subset01.test.mean=0.8841606,timepredict.test.mean=0.3546000\n",
      "Runtime: 91.4154\n"
     ]
    },
    {
     "data": {
      "text/plain": [
       "Resample Result\n",
       "Task: yeast-example\n",
       "Learner: multilabel.DBR.classif.gbm\n",
       "Aggr perf: multilabel.hamloss.test.mean=0.2169459,multilabel.subset01.test.mean=0.8841606,timepredict.test.mean=0.3546000\n",
       "Runtime: 91.4154"
      ]
     },
     "metadata": {},
     "output_type": "display_data"
    }
   ],
   "source": [
    "task = yeast.task\n",
    "classifiers(task)"
   ]
  },
  {
   "cell_type": "code",
   "execution_count": 161,
   "metadata": {},
   "outputs": [],
   "source": [
    "create_task = function(mldr_dataset) {\n",
    "    labels = colnames(janitor::clean_names(as.data.frame(mldr::mldr_to_labels(mldr_dataset))))\n",
    "    \n",
    "    data = mldr_dataset$dataset[mldr_dataset$attributesIndexes]\n",
    "    \n",
    "    data = janitor::clean_names(cbind(data, mldr::mldr_to_labels(mldr_dataset) == 1))\n",
    "    \n",
    "    return(makeMultilabelTask(data=data, target=labels))\n",
    "}"
   ]
  },
  {
   "cell_type": "code",
   "execution_count": 166,
   "metadata": {},
   "outputs": [
    {
     "name": "stderr",
     "output_type": "stream",
     "text": [
      "Looking for datasetreutersk500in the download directory\n",
      "\n",
      "Now reading datasetreutersk500\n",
      "\n",
      "Looking for datasetmediamillin the download directory\n",
      "\n",
      "Now reading datasetmediamill\n",
      "\n",
      "Looking for datasetyeastin the download directory\n",
      "\n",
      "Now reading datasetyeast\n",
      "\n",
      "Looking for datasetyahoo_socialin the download directory\n",
      "\n",
      "Looking for datasetyahoo_socialonline...\n",
      "\n",
      "Downloading datasetyahoo_social\n",
      "\n"
     ]
    }
   ],
   "source": [
    "\n",
    "reuters_task = create_task(mldr.datasets::reutersk500())\n",
    "delicious_task = create_task(mldr.datasets::mediamill())\n",
    "yeast_task = create_task(mldr.datasets::yeast())\n",
    "yahoo_task = create_task(mldr.datasets::yahoo_social())\n"
   ]
  }
 ],
 "metadata": {
  "kernelspec": {
   "display_name": "R",
   "language": "R",
   "name": "ir"
  },
  "language_info": {
   "codemirror_mode": "r",
   "file_extension": ".r",
   "mimetype": "text/x-r-source",
   "name": "R",
   "pygments_lexer": "r",
   "version": "3.5.1"
  }
 },
 "nbformat": 4,
 "nbformat_minor": 2
}
