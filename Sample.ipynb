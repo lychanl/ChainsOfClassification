{
 "cells": [
  {
   "cell_type": "markdown",
   "metadata": {},
   "source": [
    "# A notebook with sample usage of mlr"
   ]
  },
  {
   "cell_type": "code",
   "execution_count": 1,
   "metadata": {},
   "outputs": [
    {
     "name": "stderr",
     "output_type": "stream",
     "text": [
      "Updating HTML index of packages in '.Library'\n",
      "Making 'packages.html' ... done\n",
      "Updating HTML index of packages in '.Library'\n",
      "Making 'packages.html' ... done\n",
      "Loading required package: ParamHelpers\n"
     ]
    }
   ],
   "source": [
    "install.packages('mlr', repo='http://cran.fiocruz.br/')\n",
    "install.packages(\"randomForestSRC\")\n",
    "library(mlr)"
   ]
  },
  {
   "cell_type": "code",
   "execution_count": 2,
   "metadata": {},
   "outputs": [
    {
     "data": {
      "text/html": [
       "<table>\n",
       "<thead><tr><th scope=col>attr1</th><th scope=col>attr2</th><th scope=col>attr3</th><th scope=col>lab1</th><th scope=col>lab2</th></tr></thead>\n",
       "<tbody>\n",
       "\t<tr><td>-0.03104496</td><td> 1.9682814 </td><td> 1.10719269</td><td> TRUE      </td><td>FALSE      </td></tr>\n",
       "\t<tr><td> 0.38365217</td><td> 0.3797059 </td><td> 0.15510118</td><td>FALSE      </td><td> TRUE      </td></tr>\n",
       "\t<tr><td>-0.25679526</td><td> 2.1185169 </td><td>-1.02235227</td><td> TRUE      </td><td> TRUE      </td></tr>\n",
       "\t<tr><td>-1.59438329</td><td>-0.3362671 </td><td> 0.71466464</td><td> TRUE      </td><td>FALSE      </td></tr>\n",
       "\t<tr><td>-0.53091639</td><td> 0.8075876 </td><td>-1.68138621</td><td>FALSE      </td><td>FALSE      </td></tr>\n",
       "\t<tr><td> 0.17917889</td><td>-0.0425468 </td><td> 1.15860959</td><td>FALSE      </td><td> TRUE      </td></tr>\n",
       "\t<tr><td>-1.09482950</td><td>-0.8196636 </td><td> 0.62231483</td><td> TRUE      </td><td>FALSE      </td></tr>\n",
       "\t<tr><td>-1.76610451</td><td> 0.1261506 </td><td> 0.60221311</td><td> TRUE      </td><td> TRUE      </td></tr>\n",
       "\t<tr><td>-1.72085463</td><td>-1.0798661 </td><td>-0.73563905</td><td>FALSE      </td><td> TRUE      </td></tr>\n",
       "\t<tr><td> 1.83261322</td><td> 0.7229093 </td><td> 0.06382512</td><td> TRUE      </td><td> TRUE      </td></tr>\n",
       "</tbody>\n",
       "</table>\n"
      ],
      "text/latex": [
       "\\begin{tabular}{r|lllll}\n",
       " attr1 & attr2 & attr3 & lab1 & lab2\\\\\n",
       "\\hline\n",
       "\t -0.03104496 &  1.9682814  &  1.10719269 &  TRUE       & FALSE      \\\\\n",
       "\t  0.38365217 &  0.3797059  &  0.15510118 & FALSE       &  TRUE      \\\\\n",
       "\t -0.25679526 &  2.1185169  & -1.02235227 &  TRUE       &  TRUE      \\\\\n",
       "\t -1.59438329 & -0.3362671  &  0.71466464 &  TRUE       & FALSE      \\\\\n",
       "\t -0.53091639 &  0.8075876  & -1.68138621 & FALSE       & FALSE      \\\\\n",
       "\t  0.17917889 & -0.0425468  &  1.15860959 & FALSE       &  TRUE      \\\\\n",
       "\t -1.09482950 & -0.8196636  &  0.62231483 &  TRUE       & FALSE      \\\\\n",
       "\t -1.76610451 &  0.1261506  &  0.60221311 &  TRUE       &  TRUE      \\\\\n",
       "\t -1.72085463 & -1.0798661  & -0.73563905 & FALSE       &  TRUE      \\\\\n",
       "\t  1.83261322 &  0.7229093  &  0.06382512 &  TRUE       &  TRUE      \\\\\n",
       "\\end{tabular}\n"
      ],
      "text/markdown": [
       "\n",
       "| attr1 | attr2 | attr3 | lab1 | lab2 |\n",
       "|---|---|---|---|---|\n",
       "| -0.03104496 |  1.9682814  |  1.10719269 |  TRUE       | FALSE       |\n",
       "|  0.38365217 |  0.3797059  |  0.15510118 | FALSE       |  TRUE       |\n",
       "| -0.25679526 |  2.1185169  | -1.02235227 |  TRUE       |  TRUE       |\n",
       "| -1.59438329 | -0.3362671  |  0.71466464 |  TRUE       | FALSE       |\n",
       "| -0.53091639 |  0.8075876  | -1.68138621 | FALSE       | FALSE       |\n",
       "|  0.17917889 | -0.0425468  |  1.15860959 | FALSE       |  TRUE       |\n",
       "| -1.09482950 | -0.8196636  |  0.62231483 |  TRUE       | FALSE       |\n",
       "| -1.76610451 |  0.1261506  |  0.60221311 |  TRUE       |  TRUE       |\n",
       "| -1.72085463 | -1.0798661  | -0.73563905 | FALSE       |  TRUE       |\n",
       "|  1.83261322 |  0.7229093  |  0.06382512 |  TRUE       |  TRUE       |\n",
       "\n"
      ],
      "text/plain": [
       "   attr1       attr2      attr3       lab1  lab2 \n",
       "1  -0.03104496  1.9682814  1.10719269  TRUE FALSE\n",
       "2   0.38365217  0.3797059  0.15510118 FALSE  TRUE\n",
       "3  -0.25679526  2.1185169 -1.02235227  TRUE  TRUE\n",
       "4  -1.59438329 -0.3362671  0.71466464  TRUE FALSE\n",
       "5  -0.53091639  0.8075876 -1.68138621 FALSE FALSE\n",
       "6   0.17917889 -0.0425468  1.15860959 FALSE  TRUE\n",
       "7  -1.09482950 -0.8196636  0.62231483  TRUE FALSE\n",
       "8  -1.76610451  0.1261506  0.60221311  TRUE  TRUE\n",
       "9  -1.72085463 -1.0798661 -0.73563905 FALSE  TRUE\n",
       "10  1.83261322  0.7229093  0.06382512  TRUE  TRUE"
      ]
     },
     "metadata": {},
     "output_type": "display_data"
    }
   ],
   "source": [
    "attr1 = rnorm(10)\n",
    "attr2 = rnorm(10)\n",
    "attr3 = rnorm(10)\n",
    "lab1 = as.logical(c(1, 0, 1, 1, 0, 0, 1, 1, 0, 1))\n",
    "lab2 = as.logical(c(0, 1, 1, 0, 0, 1, 0, 1, 1, 1))\n",
    "test = data.frame(attr1, attr2, attr3, lab1, lab2)\n",
    "test"
   ]
  },
  {
   "cell_type": "code",
   "execution_count": 4,
   "metadata": {},
   "outputs": [
    {
     "data": {
      "text/plain": [
       "Learner multilabel.randomForestSRC from package randomForestSRC\n",
       "Type: multilabel\n",
       "Name: Random Forest; Short name: rfsrc\n",
       "Class: multilabel.randomForestSRC\n",
       "Properties: missings,numerics,factors,prob,weights\n",
       "Predict-Type: response\n",
       "Hyperparameters: na.action=na.impute\n"
      ]
     },
     "metadata": {},
     "output_type": "display_data"
    },
    {
     "data": {
      "text/plain": [
       "Supervised task: multi\n",
       "Type: multilabel\n",
       "Target: lab1,lab2\n",
       "Observations: 10\n",
       "Features:\n",
       "   numerics     factors     ordered functionals \n",
       "          3           0           0           0 \n",
       "Missings: FALSE\n",
       "Has weights: FALSE\n",
       "Has blocking: FALSE\n",
       "Has coordinates: FALSE\n",
       "Classes: 2\n",
       "lab1 lab2 \n",
       "   6    6 "
      ]
     },
     "metadata": {},
     "output_type": "display_data"
    },
    {
     "data": {
      "text/plain": [
       "Model for learner.id=multilabel.randomForestSRC; learner.class=multilabel.randomForestSRC\n",
       "Trained on: task.id = multi; obs = 10; features = 3\n",
       "Hyperparameters: na.action=na.impute"
      ]
     },
     "metadata": {},
     "output_type": "display_data"
    }
   ],
   "source": [
    "lrn = mlr::makeLearner(\"multilabel.randomForestSRC\")\n",
    "task = mlr::makeMultilabelTask(id=\"multi\", data=test, target=colnames(test[4:5]))\n",
    "lrn\n",
    "task\n",
    "model = mlr::train(lrn, task)\n",
    "model"
   ]
  },
  {
   "cell_type": "code",
   "execution_count": 5,
   "metadata": {},
   "outputs": [
    {
     "data": {
      "text/html": [
       "<table>\n",
       "<thead><tr><th scope=col>id</th><th scope=col>truth.lab1</th><th scope=col>truth.lab2</th><th scope=col>response.lab1</th><th scope=col>response.lab2</th></tr></thead>\n",
       "<tbody>\n",
       "\t<tr><td> 1   </td><td> TRUE</td><td>FALSE</td><td> TRUE</td><td>FALSE</td></tr>\n",
       "\t<tr><td> 2   </td><td>FALSE</td><td> TRUE</td><td>FALSE</td><td> TRUE</td></tr>\n",
       "\t<tr><td> 3   </td><td> TRUE</td><td> TRUE</td><td> TRUE</td><td> TRUE</td></tr>\n",
       "\t<tr><td> 4   </td><td> TRUE</td><td>FALSE</td><td> TRUE</td><td>FALSE</td></tr>\n",
       "\t<tr><td> 5   </td><td>FALSE</td><td>FALSE</td><td>FALSE</td><td>FALSE</td></tr>\n",
       "\t<tr><td> 6   </td><td>FALSE</td><td> TRUE</td><td>FALSE</td><td> TRUE</td></tr>\n",
       "\t<tr><td> 7   </td><td> TRUE</td><td>FALSE</td><td> TRUE</td><td>FALSE</td></tr>\n",
       "\t<tr><td> 8   </td><td> TRUE</td><td> TRUE</td><td> TRUE</td><td> TRUE</td></tr>\n",
       "\t<tr><td> 9   </td><td>FALSE</td><td> TRUE</td><td>FALSE</td><td> TRUE</td></tr>\n",
       "\t<tr><td>10   </td><td> TRUE</td><td> TRUE</td><td> TRUE</td><td> TRUE</td></tr>\n",
       "</tbody>\n",
       "</table>\n"
      ],
      "text/latex": [
       "\\begin{tabular}{r|lllll}\n",
       " id & truth.lab1 & truth.lab2 & response.lab1 & response.lab2\\\\\n",
       "\\hline\n",
       "\t  1    &  TRUE & FALSE &  TRUE & FALSE\\\\\n",
       "\t  2    & FALSE &  TRUE & FALSE &  TRUE\\\\\n",
       "\t  3    &  TRUE &  TRUE &  TRUE &  TRUE\\\\\n",
       "\t  4    &  TRUE & FALSE &  TRUE & FALSE\\\\\n",
       "\t  5    & FALSE & FALSE & FALSE & FALSE\\\\\n",
       "\t  6    & FALSE &  TRUE & FALSE &  TRUE\\\\\n",
       "\t  7    &  TRUE & FALSE &  TRUE & FALSE\\\\\n",
       "\t  8    &  TRUE &  TRUE &  TRUE &  TRUE\\\\\n",
       "\t  9    & FALSE &  TRUE & FALSE &  TRUE\\\\\n",
       "\t 10    &  TRUE &  TRUE &  TRUE &  TRUE\\\\\n",
       "\\end{tabular}\n"
      ],
      "text/markdown": [
       "\n",
       "| id | truth.lab1 | truth.lab2 | response.lab1 | response.lab2 |\n",
       "|---|---|---|---|---|\n",
       "|  1    |  TRUE | FALSE |  TRUE | FALSE |\n",
       "|  2    | FALSE |  TRUE | FALSE |  TRUE |\n",
       "|  3    |  TRUE |  TRUE |  TRUE |  TRUE |\n",
       "|  4    |  TRUE | FALSE |  TRUE | FALSE |\n",
       "|  5    | FALSE | FALSE | FALSE | FALSE |\n",
       "|  6    | FALSE |  TRUE | FALSE |  TRUE |\n",
       "|  7    |  TRUE | FALSE |  TRUE | FALSE |\n",
       "|  8    |  TRUE |  TRUE |  TRUE |  TRUE |\n",
       "|  9    | FALSE |  TRUE | FALSE |  TRUE |\n",
       "| 10    |  TRUE |  TRUE |  TRUE |  TRUE |\n",
       "\n"
      ],
      "text/plain": [
       "   id truth.lab1 truth.lab2 response.lab1 response.lab2\n",
       "1   1  TRUE      FALSE       TRUE         FALSE        \n",
       "2   2 FALSE       TRUE      FALSE          TRUE        \n",
       "3   3  TRUE       TRUE       TRUE          TRUE        \n",
       "4   4  TRUE      FALSE       TRUE         FALSE        \n",
       "5   5 FALSE      FALSE      FALSE         FALSE        \n",
       "6   6 FALSE       TRUE      FALSE          TRUE        \n",
       "7   7  TRUE      FALSE       TRUE         FALSE        \n",
       "8   8  TRUE       TRUE       TRUE          TRUE        \n",
       "9   9 FALSE       TRUE      FALSE          TRUE        \n",
       "10 10  TRUE       TRUE       TRUE          TRUE        "
      ]
     },
     "metadata": {},
     "output_type": "display_data"
    },
    {
     "data": {
      "text/html": [
       "<strong>multilabel.hamloss:</strong> 0"
      ],
      "text/latex": [
       "\\textbf{multilabel.hamloss:} 0"
      ],
      "text/markdown": [
       "**multilabel.hamloss:** 0"
      ],
      "text/plain": [
       "multilabel.hamloss \n",
       "                 0 "
      ]
     },
     "metadata": {},
     "output_type": "display_data"
    }
   ],
   "source": [
    "pred = predict(model, task)\n",
    "as.data.frame(pred)\n",
    "performance(pred)"
   ]
  },
  {
   "cell_type": "code",
   "execution_count": null,
   "metadata": {},
   "outputs": [],
   "source": []
  }
 ],
 "metadata": {
  "kernelspec": {
   "display_name": "R",
   "language": "R",
   "name": "ir"
  },
  "language_info": {
   "codemirror_mode": "r",
   "file_extension": ".r",
   "mimetype": "text/x-r-source",
   "name": "R",
   "pygments_lexer": "r",
   "version": "3.5.1"
  }
 },
 "nbformat": 4,
 "nbformat_minor": 2
}
